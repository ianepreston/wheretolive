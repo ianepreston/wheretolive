{
 "cells": [
  {
   "cell_type": "markdown",
   "id": "64efaf03-6d4c-437a-b140-d8abd7c964b1",
   "metadata": {},
   "source": [
    "# Test isochrone output\n",
    "\n",
    "I have a json of outputs returned by Azure Maps. Let's see if it is usable before I spend a bunch of cycles querying a bunch of results"
   ]
  },
  {
   "cell_type": "code",
   "execution_count": null,
   "id": "4212fcba-aaca-4c1c-80bd-b8c23542675e",
   "metadata": {},
   "outputs": [],
   "source": [
    "from pathlib import Path\n",
    "import json\n",
    "import folium\n",
    "import geopandas as gpd\n",
    "from shapely.geometry import shape, Point, Polygon"
   ]
  },
  {
   "cell_type": "code",
   "execution_count": null,
   "id": "4fdf2c70-1f07-4034-a564-053217d9fd27",
   "metadata": {},
   "outputs": [],
   "source": [
    "data_dir = Path(\"../data/isochrone\")"
   ]
  },
  {
   "cell_type": "code",
   "execution_count": null,
   "id": "5e69bafb-84d8-40eb-8bb0-913a3185ec39",
   "metadata": {},
   "outputs": [],
   "source": [
    "data_dir.exists()"
   ]
  },
  {
   "cell_type": "code",
   "execution_count": null,
   "id": "0b9a83ff-bc47-40ef-961b-22d293aa8ba1",
   "metadata": {},
   "outputs": [],
   "source": [
    "# Turns out azure isochrones kind of suck\n",
    "# with open(data_dir / \"azure_isochrones.json\", \"r\") as f:\n",
    "#     azure_isochrones = json.load(f)"
   ]
  },
  {
   "cell_type": "code",
   "execution_count": null,
   "id": "e39e948f-b956-4ba3-824d-c7dee3cdf0a3",
   "metadata": {},
   "outputs": [],
   "source": [
    "with open(data_dir / \"isochrones.json\", \"r\") as f:\n",
    "    isochrones = json.load(f)"
   ]
  },
  {
   "cell_type": "code",
   "execution_count": null,
   "id": "616de2d9-6f35-4b85-b849-1a54e6d39000",
   "metadata": {},
   "outputs": [],
   "source": [
    "center = [51.04487312693333, -114.07864049159537]"
   ]
  },
  {
   "cell_type": "code",
   "execution_count": null,
   "id": "859d6968-f707-42da-b516-04e8d67d92e7",
   "metadata": {},
   "outputs": [],
   "source": [
    "for isochrone in isochrones:\n",
    "    isochrone[\"shape\"] = shape(isochrone[\"shape\"])"
   ]
  },
  {
   "cell_type": "code",
   "execution_count": null,
   "id": "8b5d641e-0b7f-4e5b-a680-6f7bc85731d7",
   "metadata": {},
   "outputs": [],
   "source": [
    "# for isochrone in azure_isochrones:\n",
    "#     isochrone[\"shape\"] = Polygon([Point(point[\"longitude\"], point[\"latitude\"]) for point in isochrone[\"shape\"]])"
   ]
  },
  {
   "cell_type": "code",
   "execution_count": null,
   "id": "6428cd24-89d8-49bb-a30c-84a213cf0954",
   "metadata": {},
   "outputs": [],
   "source": [
    "my_geo_df = gpd.GeoDataFrame(isochrones).set_index([\"place_name\", \"mode\", \"cutoff_time\"])"
   ]
  },
  {
   "cell_type": "code",
   "execution_count": null,
   "id": "9a9beed3-682d-4ae4-b914-18cc760ac782",
   "metadata": {},
   "outputs": [],
   "source": [
    "# my_azure_df = gpd.GeoDataFrame(azure_isochrones).set_index([\"place_name\", \"mode\", \"cutoff_time\"])"
   ]
  },
  {
   "cell_type": "code",
   "execution_count": null,
   "id": "c5585a79-72c4-4352-bafd-4def31789ce1",
   "metadata": {},
   "outputs": [],
   "source": [
    "# ['GF_WORK', 'BROTHER', 'DOWNTOWN', 'MACEWAN', \"CURRENT_HOUSE\", \"WORK\"]\n",
    "m = folium.Map(location=center)\n",
    "PLACE_NAME = \"GF_WORK\"\n",
    "# ['WALK, TRANSIT', 'WALK', 'CAR', 'BICYCLE', 'WALK, BICYCLE, TRANSIT']\n",
    "MODE = \"CAR\"\n",
    "# 10 to 60 in 5 minute intervals\n",
    "TIME = 20\n",
    "geo = gpd.GeoSeries(my_geo_df.loc[(PLACE_NAME, MODE, TIME), \"shape\"])\n",
    "geo_j = geo.to_json()\n",
    "geo_j = folium.GeoJson(data=geo_j, style_function=lambda x: {'fillColor': 'orange'})\n",
    "folium.Popup(f\"{PLACE_NAME}, {MODE}, {TIME}\").add_to(geo_j)\n",
    "geo_j.add_to(m)\n",
    "# if MODE == \"CAR\":\n",
    "#     geo2 = gpd.GeoSeries(my_azure_df.loc[(PLACE_NAME, \"azure_car\", TIME), \"shape\"])\n",
    "#     geo_j2 = geo2.to_json()\n",
    "#     geo_j2 = folium.GeoJson(data=geo_j2, style_function=lambda x: {'fillColor': 'blue'})\n",
    "#     folium.Popup(f\"{PLACE_NAME}, azure_car, {TIME}\").add_to(geo_j2)\n",
    "#     geo_j2.add_to(m)\n",
    "m\n"
   ]
  },
  {
   "cell_type": "code",
   "execution_count": null,
   "id": "4e6b242e-ee06-42ad-aa7a-95bea6923b1b",
   "metadata": {},
   "outputs": [],
   "source": []
  }
 ],
 "metadata": {
  "kernelspec": {
   "display_name": "Python 3",
   "language": "python",
   "name": "python3"
  },
  "language_info": {
   "codemirror_mode": {
    "name": "ipython",
    "version": 3
   },
   "file_extension": ".py",
   "mimetype": "text/x-python",
   "name": "python",
   "nbconvert_exporter": "python",
   "pygments_lexer": "ipython3",
   "version": "3.9.4"
  }
 },
 "nbformat": 4,
 "nbformat_minor": 5
}
