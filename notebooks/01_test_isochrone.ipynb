{
 "cells": [
  {
   "cell_type": "markdown",
   "id": "64efaf03-6d4c-437a-b140-d8abd7c964b1",
   "metadata": {},
   "source": [
    "# Test isochrone output\n",
    "\n",
    "I have a json of outputs returned by Azure Maps. Let's see if it is usable before I spend a bunch of cycles querying a bunch of results"
   ]
  },
  {
   "cell_type": "code",
   "execution_count": null,
   "id": "4212fcba-aaca-4c1c-80bd-b8c23542675e",
   "metadata": {},
   "outputs": [],
   "source": [
    "from pathlib import Path\n",
    "import json\n",
    "import folium"
   ]
  },
  {
   "cell_type": "code",
   "execution_count": null,
   "id": "4fdf2c70-1f07-4034-a564-053217d9fd27",
   "metadata": {},
   "outputs": [],
   "source": [
    "data_dir = Path(\"../data/isochrone\")"
   ]
  },
  {
   "cell_type": "code",
   "execution_count": null,
   "id": "5e69bafb-84d8-40eb-8bb0-913a3185ec39",
   "metadata": {},
   "outputs": [],
   "source": [
    "data_dir.exists()"
   ]
  },
  {
   "cell_type": "code",
   "execution_count": null,
   "id": "0b9a83ff-bc47-40ef-961b-22d293aa8ba1",
   "metadata": {},
   "outputs": [],
   "source": [
    "with open(data_dir / \"test_bounds.json\", \"r\") as f:\n",
    "    test_bound = json.load(f)"
   ]
  },
  {
   "cell_type": "code",
   "execution_count": null,
   "id": "8ee3ac8c-4d6f-45da-bbe7-edf9b44648fc",
   "metadata": {},
   "outputs": [],
   "source": [
    "center = test_bound[\"reachableRange\"][\"center\"]\n",
    "bbox = test_bound[\"reachableRange\"][\"boundary\"]"
   ]
  },
  {
   "cell_type": "code",
   "execution_count": null,
   "id": "d3f45b5b-1795-47d8-9065-4a1a7adfa3f0",
   "metadata": {},
   "outputs": [],
   "source": [
    "def coord_dict_to_list(coord_dict):\n",
    "    return [coord_dict[\"latitude\"], coord_dict[\"longitude\"]]"
   ]
  },
  {
   "cell_type": "code",
   "execution_count": null,
   "id": "616de2d9-6f35-4b85-b849-1a54e6d39000",
   "metadata": {},
   "outputs": [],
   "source": [
    "center"
   ]
  },
  {
   "cell_type": "code",
   "execution_count": null,
   "id": "8c34d7b3-78f6-439d-98e1-2db2b38ce6b7",
   "metadata": {},
   "outputs": [],
   "source": [
    "center_clean = coord_dict_to_list(center)\n",
    "center_clean"
   ]
  },
  {
   "cell_type": "code",
   "execution_count": null,
   "id": "45f4be73-426c-4364-86c8-f9c4735dcff0",
   "metadata": {},
   "outputs": [],
   "source": [
    "bbox_clean = [coord_dict_to_list(x) for x in bbox]"
   ]
  },
  {
   "cell_type": "code",
   "execution_count": null,
   "id": "c5585a79-72c4-4352-bafd-4def31789ce1",
   "metadata": {},
   "outputs": [],
   "source": [
    "m = folium.Map(location=center_clean)"
   ]
  },
  {
   "cell_type": "code",
   "execution_count": null,
   "id": "fe88b86f-cbb7-48a5-a667-bc6f29189b8e",
   "metadata": {},
   "outputs": [],
   "source": [
    "poly = folium.vector_layers.Polygon(locations=bbox_clean, popup=\"I'm walking here\")\n",
    "poly.add_to(m)"
   ]
  },
  {
   "cell_type": "code",
   "execution_count": null,
   "id": "af03539e-1753-4695-a915-500e5d5426ce",
   "metadata": {},
   "outputs": [],
   "source": [
    "m"
   ]
  },
  {
   "cell_type": "code",
   "execution_count": null,
   "id": "bb1c89b1-92db-4392-bcfe-bbdbc2e3f357",
   "metadata": {},
   "outputs": [],
   "source": []
  }
 ],
 "metadata": {
  "kernelspec": {
   "display_name": "Python 3",
   "language": "python",
   "name": "python3"
  },
  "language_info": {
   "codemirror_mode": {
    "name": "ipython",
    "version": 3
   },
   "file_extension": ".py",
   "mimetype": "text/x-python",
   "name": "python",
   "nbconvert_exporter": "python",
   "pygments_lexer": "ipython3",
   "version": "3.9.4"
  }
 },
 "nbformat": 4,
 "nbformat_minor": 5
}
